{
 "cells": [
  {
   "cell_type": "code",
   "execution_count": 1,
   "metadata": {},
   "outputs": [
    {
     "name": "stdout",
     "output_type": "stream",
     "text": [
      "2018-12-23T12:39:54-06:00\n",
      "\n",
      "CPython 3.6.7\n",
      "IPython 7.2.0\n",
      "\n",
      "compiler   : GCC 8.2.0\n",
      "system     : Linux\n",
      "release    : 4.15.0-43-generic\n",
      "machine    : x86_64\n",
      "processor  : x86_64\n",
      "CPU cores  : 4\n",
      "interpreter: 64bit\n"
     ]
    }
   ],
   "source": [
    "#Analisis esploratorio  de Data\n",
    "#Cargamos el notebook\n",
    "%load_ext watermark\n",
    "%watermark\n"
   ]
  },
  {
   "cell_type": "code",
   "execution_count": 2,
   "metadata": {},
   "outputs": [],
   "source": [
    "#importar pandas\n",
    "import pandas as pd"
   ]
  },
  {
   "cell_type": "markdown",
   "metadata": {},
   "source": [
    "La magia de matplotlib %matplotlib notebook, es util para hacer mas visibles , pero es un poco complicada de usar ya que requiere el cerrar cada plot para poder continuar\n",
    "Alternativamente se puede usar la magia de %matplotlib inline, que es mas sencilla ya que \n",
    "simplemente muestra nuestra grafica original en jupyter notebook. Para modificar el tamaño\n",
    "en los plots en este caso basta con cambiar el parametro general de matplotlib figure.figsize al tamaño deseado (en pulgadas)."
   ]
  },
  {
   "cell_type": "code",
   "execution_count": 20,
   "metadata": {},
   "outputs": [],
   "source": [
    "%matplotlib inline\n",
    "#Importamos matplotlib\n",
    "import matplotlib.pyplot as plt \n",
    "#Modificar los parametros\n",
    "plt.rcParams[\"figure.figsize\"]=(20,20)#10 in de ancho y 10 in de alto para todos los plots"
   ]
  },
  {
   "cell_type": "markdown",
   "metadata": {},
   "source": [
    "En este apartado vamos a revisar el dataset.El objetivo es tener un dataset lo mas parecido al original pero sin fallos en el mismo que puedan llevarnos a sacer conclusiones \n",
    "erroneas.\n",
    "El input de este paso es el output anterior"
   ]
  },
  {
   "cell_type": "code",
   "execution_count": 5,
   "metadata": {},
   "outputs": [
    {
     "data": {
      "text/plain": [
       "(38436, 11)"
      ]
     },
     "execution_count": 5,
     "metadata": {},
     "output_type": "execute_result"
    }
   ],
   "source": [
    "#Cargar el dataset\n",
    "vehiculos=pd.read_csv(\"/home/jose/data/vehiculos1_original.csv\")\n",
    "vehiculos.head()\n",
    "#La forma de la los datos\n",
    "vehiculos.shape"
   ]
  },
  {
   "cell_type": "markdown",
   "metadata": {},
   "source": [
    "Duplicados \n",
    "En este apartado se intenatn ver dos cosas:\n",
    "\n",
    "    Asegurarse de que los datos no debiran estar duplicados no estan(por ejemplo,numeros       de telefono).\n",
    "    Revisar si hay columnas que tenga una alto numero de duplicados, ya que no aporta         mucha informacion.\n",
    "    \n",
    "Recordemos que las entidades posibles eran:\n",
    "\n",
    "    fabricante\n",
    "    fabricante-modelo\n",
    "    fabricante-modelo-año\n",
    "    fabricante-año\n",
    "    \n",
    " De estas entidades las unicas que no se deberian repetir coches especificos, es decir, fabricante+modelo+año\n"
   ]
  },
  {
   "cell_type": "code",
   "execution_count": 6,
   "metadata": {},
   "outputs": [],
   "source": [
    "#Creamos una nueva columna en la que concatenamos el modelo y el año (el año se vuelve un string inicialmente es un flotante)\n",
    "#y la union de los dos strings se hace con -\n",
    "vehiculos[\"modelo_unico\"]=vehiculos.fabricante.str.cat([vehiculos.modelo,vehiculos.year.apply(str)],sep=\"-\")"
   ]
  },
  {
   "cell_type": "code",
   "execution_count": 7,
   "metadata": {},
   "outputs": [
    {
     "data": {
      "text/plain": [
       "Jeep-Cherokee/Wagoneer-1985                     24\n",
       "Ford-F150 Pickup 2WD-1984                       19\n",
       "GMC-C15 Pickup 2WD-1984                         19\n",
       "Chevrolet-C10 Pickup 2WD-1984                   19\n",
       "GMC-C15 Pickup 2WD-1985                         18\n",
       "Chevrolet-S10 Pickup 2WD-1984                   18\n",
       "Chevrolet-C10 Pickup 2WD-1985                   18\n",
       "GMC-S15 Pickup 2WD-1984                         18\n",
       "Chevrolet-C10 Pickup 2WD-1986                   17\n",
       "GMC-C15 Pickup 2WD-1986                         17\n",
       "Ford-Ranger Pickup 2WD-1984                     17\n",
       "Mitsubishi-Truck 2WD-1984                       17\n",
       "Dodge-Ram 50 Pickup 2WD-1984                    17\n",
       "Ford-Escort-1984                                16\n",
       "Ford-Escort-1985                                16\n",
       "Mercury-Lynx-1984                               16\n",
       "GMC-Vandura G15/25 2WD-1984                     16\n",
       "Volkswagen-Rabbit-1984                          16\n",
       "Ford-F150 Pickup 2WD-1985                       16\n",
       "Chevrolet-G10/20 Van 2WD-1984                   16\n",
       "Ford-F150 Pickup 4WD-1984                       15\n",
       "Dodge-D100/D150 Pickup 2WD-1985                 15\n",
       "Ford-Bronco 4WD-1984                            15\n",
       "Volkswagen-Jetta-1984                           15\n",
       "Ford-F250 Pickup 2WD-1985                       15\n",
       "Ford-E150 Econoline 2WD-1984                    15\n",
       "Chevrolet-S10 Pickup 2WD-1985                   14\n",
       "Chevrolet-G10/20 Van 2WD-1986                   14\n",
       "Volvo-240 DL/GL/Turbo Wagon-1984                14\n",
       "Chevrolet-C1500 Pickup 2WD-1991                 14\n",
       "                                                ..\n",
       "GMC-Savana 1500  AWD Conversion (cargo)-2011     1\n",
       "Cadillac-DeVille-2002                            1\n",
       "BMW-X1 xDrive28i-2015                            1\n",
       "Oldsmobile-Trofeo/Toronado-1990                  1\n",
       "BMW-Z4 M Roadster-2006                           1\n",
       "BMW-550i Gran Turismo-2013                       1\n",
       "Porsche-944 S-1988                               1\n",
       "Volkswagen-Jetta GLI 16v-1989                    1\n",
       "Lexus-GS 350-2011                                1\n",
       "Nissan-Murano FWD-2017                           1\n",
       "BMW-528i-2013                                    1\n",
       "Toyota-RAV4 AWD-2016                             1\n",
       "Pontiac-20th Anniversary Trans Am-1989           1\n",
       "Subaru-Hatchback 4WD-1988                        1\n",
       "Wallace Environmental-Wetl 190E 2.3-1991         1\n",
       "Wallace Environmental-Wetl 190E-1991             1\n",
       "Ford-Crown Victoria CNG-2002                     1\n",
       "Cadillac-Limousine-1999                          1\n",
       "Kia-Sportage SX AWD-2015                         1\n",
       "Fiat-500 Abarth-2013                             1\n",
       "Lexus-IS F-2008                                  1\n",
       "Mercedes-Benz-S430-2002                          1\n",
       "Ford-Expedition 4WD-2006                         1\n",
       "Jaguar-XK8-2003                                  1\n",
       "Honda-EV Plus-1998                               1\n",
       "Mercedes-Benz-SLK300-2016                        1\n",
       "Toyota-Prius Eco-2017                            1\n",
       "Mercedes-Benz-300TE-1993                         1\n",
       "GMC-Yukon Denali 1500 AWD-2012                   1\n",
       "BMW-750i-2014                                    1\n",
       "Name: modelo_unico, Length: 17448, dtype: int64"
      ]
     },
     "execution_count": 7,
     "metadata": {},
     "output_type": "execute_result"
    }
   ],
   "source": [
    "#Contamos la contidad de vehiculos con el mismo año\n",
    "vehiculos.modelo_unico.value_counts()"
   ]
  },
  {
   "cell_type": "code",
   "execution_count": 8,
   "metadata": {
    "scrolled": true
   },
   "outputs": [
    {
     "data": {
      "text/html": [
       "<div>\n",
       "<style scoped>\n",
       "    .dataframe tbody tr th:only-of-type {\n",
       "        vertical-align: middle;\n",
       "    }\n",
       "\n",
       "    .dataframe tbody tr th {\n",
       "        vertical-align: top;\n",
       "    }\n",
       "\n",
       "    .dataframe thead th {\n",
       "        text-align: right;\n",
       "    }\n",
       "</style>\n",
       "<table border=\"1\" class=\"dataframe\">\n",
       "  <thead>\n",
       "    <tr style=\"text-align: right;\">\n",
       "      <th></th>\n",
       "      <th>fabricante</th>\n",
       "      <th>modelo</th>\n",
       "      <th>year</th>\n",
       "      <th>desplazamiento</th>\n",
       "      <th>cilindros</th>\n",
       "      <th>transmision</th>\n",
       "      <th>traccion</th>\n",
       "      <th>clase</th>\n",
       "      <th>combustible</th>\n",
       "      <th>consumo</th>\n",
       "      <th>co2</th>\n",
       "      <th>modelo_unico</th>\n",
       "    </tr>\n",
       "  </thead>\n",
       "  <tbody>\n",
       "    <tr>\n",
       "      <th>4957</th>\n",
       "      <td>Chevrolet</td>\n",
       "      <td>C1500 Pickup 2WD</td>\n",
       "      <td>1991</td>\n",
       "      <td>4.3</td>\n",
       "      <td>6.0</td>\n",
       "      <td>Automatic 4-spd</td>\n",
       "      <td>Rear-Wheel Drive</td>\n",
       "      <td>Standard Pickup Trucks</td>\n",
       "      <td>Regular</td>\n",
       "      <td>17</td>\n",
       "      <td>522.764706</td>\n",
       "      <td>Chevrolet-C1500 Pickup 2WD-1991</td>\n",
       "    </tr>\n",
       "    <tr>\n",
       "      <th>4958</th>\n",
       "      <td>Chevrolet</td>\n",
       "      <td>C1500 Pickup 2WD</td>\n",
       "      <td>1991</td>\n",
       "      <td>4.3</td>\n",
       "      <td>6.0</td>\n",
       "      <td>Manual 4-spd</td>\n",
       "      <td>Rear-Wheel Drive</td>\n",
       "      <td>Standard Pickup Trucks</td>\n",
       "      <td>Regular</td>\n",
       "      <td>17</td>\n",
       "      <td>522.764706</td>\n",
       "      <td>Chevrolet-C1500 Pickup 2WD-1991</td>\n",
       "    </tr>\n",
       "    <tr>\n",
       "      <th>4959</th>\n",
       "      <td>Chevrolet</td>\n",
       "      <td>C1500 Pickup 2WD</td>\n",
       "      <td>1991</td>\n",
       "      <td>4.3</td>\n",
       "      <td>6.0</td>\n",
       "      <td>Manual 5-spd</td>\n",
       "      <td>Rear-Wheel Drive</td>\n",
       "      <td>Standard Pickup Trucks</td>\n",
       "      <td>Regular</td>\n",
       "      <td>17</td>\n",
       "      <td>522.764706</td>\n",
       "      <td>Chevrolet-C1500 Pickup 2WD-1991</td>\n",
       "    </tr>\n",
       "    <tr>\n",
       "      <th>4960</th>\n",
       "      <td>Chevrolet</td>\n",
       "      <td>C1500 Pickup 2WD</td>\n",
       "      <td>1991</td>\n",
       "      <td>4.3</td>\n",
       "      <td>6.0</td>\n",
       "      <td>Manual 5-spd</td>\n",
       "      <td>Rear-Wheel Drive</td>\n",
       "      <td>Standard Pickup Trucks</td>\n",
       "      <td>Regular</td>\n",
       "      <td>17</td>\n",
       "      <td>522.764706</td>\n",
       "      <td>Chevrolet-C1500 Pickup 2WD-1991</td>\n",
       "    </tr>\n",
       "    <tr>\n",
       "      <th>4961</th>\n",
       "      <td>Chevrolet</td>\n",
       "      <td>C1500 Pickup 2WD</td>\n",
       "      <td>1991</td>\n",
       "      <td>5.0</td>\n",
       "      <td>8.0</td>\n",
       "      <td>Automatic 4-spd</td>\n",
       "      <td>Rear-Wheel Drive</td>\n",
       "      <td>Standard Pickup Trucks</td>\n",
       "      <td>Regular</td>\n",
       "      <td>15</td>\n",
       "      <td>592.466667</td>\n",
       "      <td>Chevrolet-C1500 Pickup 2WD-1991</td>\n",
       "    </tr>\n",
       "  </tbody>\n",
       "</table>\n",
       "</div>"
      ],
      "text/plain": [
       "     fabricante            modelo  year  desplazamiento  cilindros  \\\n",
       "4957  Chevrolet  C1500 Pickup 2WD  1991             4.3        6.0   \n",
       "4958  Chevrolet  C1500 Pickup 2WD  1991             4.3        6.0   \n",
       "4959  Chevrolet  C1500 Pickup 2WD  1991             4.3        6.0   \n",
       "4960  Chevrolet  C1500 Pickup 2WD  1991             4.3        6.0   \n",
       "4961  Chevrolet  C1500 Pickup 2WD  1991             5.0        8.0   \n",
       "\n",
       "          transmision          traccion                   clase combustible  \\\n",
       "4957  Automatic 4-spd  Rear-Wheel Drive  Standard Pickup Trucks     Regular   \n",
       "4958     Manual 4-spd  Rear-Wheel Drive  Standard Pickup Trucks     Regular   \n",
       "4959     Manual 5-spd  Rear-Wheel Drive  Standard Pickup Trucks     Regular   \n",
       "4960     Manual 5-spd  Rear-Wheel Drive  Standard Pickup Trucks     Regular   \n",
       "4961  Automatic 4-spd  Rear-Wheel Drive  Standard Pickup Trucks     Regular   \n",
       "\n",
       "      consumo         co2                     modelo_unico  \n",
       "4957       17  522.764706  Chevrolet-C1500 Pickup 2WD-1991  \n",
       "4958       17  522.764706  Chevrolet-C1500 Pickup 2WD-1991  \n",
       "4959       17  522.764706  Chevrolet-C1500 Pickup 2WD-1991  \n",
       "4960       17  522.764706  Chevrolet-C1500 Pickup 2WD-1991  \n",
       "4961       15  592.466667  Chevrolet-C1500 Pickup 2WD-1991  "
      ]
     },
     "execution_count": 8,
     "metadata": {},
     "output_type": "execute_result"
    }
   ],
   "source": [
    "#Nos damos cuenta que hay muchos repetidos \n",
    "vehiculos[vehiculos.modelo_unico==\"Chevrolet-C1500 Pickup 2WD-1991\"].head()"
   ]
  },
  {
   "cell_type": "markdown",
   "metadata": {},
   "source": [
    "Como podemos ver, cada modelo unico tiene diferentes configuraciones de cada coche(3 velocidades o 4 por ejemplo).\n",
    "Por lo tanto, solo vamos a considerar duplicados aquellos records que sean identicos en todas sus columnas"
   ]
  },
  {
   "cell_type": "code",
   "execution_count": 9,
   "metadata": {},
   "outputs": [
    {
     "data": {
      "text/plain": [
       "(1506, 12)"
      ]
     },
     "execution_count": 9,
     "metadata": {},
     "output_type": "execute_result"
    }
   ],
   "source": [
    "#Observamos los elementos en el dataset duplicados\n",
    "vehiculos[vehiculos.duplicated()].shape\n"
   ]
  },
  {
   "cell_type": "code",
   "execution_count": 10,
   "metadata": {},
   "outputs": [
    {
     "data": {
      "text/plain": [
       "(36930, 12)"
      ]
     },
     "execution_count": 10,
     "metadata": {},
     "output_type": "execute_result"
    }
   ],
   "source": [
    "#Cuando hay elemento duplicados los borramos como se muestra a continuacion\n",
    "vehiculos=vehiculos.drop_duplicates()\n",
    "vehiculos.shape"
   ]
  },
  {
   "cell_type": "markdown",
   "metadata": {},
   "source": [
    "Borramos la columna de modelo "
   ]
  },
  {
   "cell_type": "code",
   "execution_count": 11,
   "metadata": {},
   "outputs": [],
   "source": [
    "del vehiculos[\"modelo_unico\"]"
   ]
  },
  {
   "cell_type": "code",
   "execution_count": 12,
   "metadata": {},
   "outputs": [
    {
     "name": "stdout",
     "output_type": "stream",
     "text": [
      "fabricante | 0.1 - 0.0 |object\n",
      "modelo | 0.005 - 0.0 |object\n",
      "year | 0.038 - 0.007 |int64\n",
      "desplazamiento | 0.095 - 0.0 |float64\n",
      "cilindros | 0.38 - 0.0 |float64\n",
      "transmision | 0.287 - 0.0 |object\n",
      "traccion | 0.353 - 0.005 |object\n",
      "clase | 0.145 - 0.0 |object\n",
      "combustible | 0.652 - 0.0 |object\n",
      "consumo | 0.097 - 0.0 |int64\n",
      "co2 | 0.084 - 0.0 |float64\n"
     ]
    }
   ],
   "source": [
    "#Ahora falta ver si hay variables en las que haya una gran cantidad de records que tengan el mismo valor(cardinalidad)\n",
    "n_records=len(vehiculos)\n",
    "def valores_duplicados_col(df):\n",
    "    for columna in df:\n",
    "        n_por_valor=df[columna].value_counts()\n",
    "        mas_comun=n_por_valor.iloc[0]\n",
    "        menos_comun=n_por_valor.iloc[-1]\n",
    "        print(\"{} | {} - {} |{}\".format(\n",
    "            df[columna].name,\n",
    "            round(mas_comun/(1.0*n_records),3),\n",
    "            round(menos_comun/(1.0*n_records),3),\n",
    "            df[columna].dtype))\n",
    "\n",
    "valores_duplicados_col(vehiculos)\n"
   ]
  },
  {
   "cell_type": "markdown",
   "metadata": {},
   "source": [
    "Vemos que los campos traccion, transmision, cilindros y combustible pueden tener un problema de valores repetidos, en realidad 30% no es muy dramatico , el problema seria si el mas comun tuviera un  90 %"
   ]
  },
  {
   "cell_type": "code",
   "execution_count": 15,
   "metadata": {},
   "outputs": [
    {
     "name": "stdout",
     "output_type": "stream",
     "text": [
      "Front-Wheel Drive             13018\n",
      "Rear-Wheel Drive              12750\n",
      "4-Wheel or All-Wheel Drive     6408\n",
      "All-Wheel Drive                2252\n",
      "4-Wheel Drive                  1116\n",
      "2-Wheel Drive                   412\n",
      "Part-time 4-Wheel Drive         177\n",
      "Name: traccion, dtype: int64\n"
     ]
    },
    {
     "data": {
      "text/plain": [
       "Front-Wheel Drive             0.360280\n",
       "Rear-Wheel Drive              0.352863\n",
       "4-Wheel or All-Wheel Drive    0.177345\n",
       "All-Wheel Drive               0.062325\n",
       "4-Wheel Drive                 0.030886\n",
       "2-Wheel Drive                 0.011402\n",
       "Part-time 4-Wheel Drive       0.004899\n",
       "Name: traccion, dtype: float64"
      ]
     },
     "execution_count": 15,
     "metadata": {},
     "output_type": "execute_result"
    }
   ],
   "source": [
    "#imprimir el valor de conteo para cada tipo de  traccion\n",
    "print(vehiculos.traccion.value_counts())\n",
    "#Inprimir el valor normalizado en porcentaje\n",
    "vehiculos.traccion.value_counts(normalize=True)"
   ]
  },
  {
   "cell_type": "markdown",
   "metadata": {},
   "source": [
    "Vemos que esto tiene sentido, ya que la inmensa mayoria de los vehiculos tienen una traccion a dos \n",
    "ruedas, sean delanteras o traceras. En este caso alguien con el conocimiento de dominio podria \n",
    "darse cuenta de que problamente 2 wheel Drive sea simplemente una clasificacion distinta de Front o Rear.\n"
   ]
  },
  {
   "cell_type": "code",
   "execution_count": 21,
   "metadata": {
    "scrolled": true
   },
   "outputs": [
    {
     "data": {
      "image/png": "[encoded data removed]",
      "text/plain": [
       "<Figure size 1440x1440 with 1 Axes>"
      ]
     },
     "metadata": {
      "needs_background": "light"
     },
     "output_type": "display_data"
    }
   ],
   "source": [
    "vehiculos.transmision.value_counts(normalize=True).plot.barh();"
   ]
  },
  {
   "cell_type": "markdown",
   "metadata": {},
   "source": [
    "Veamos que aunque la transmision tenga una cardinalidad relativamente alta, en realidad muestra \n",
    "una distribucion con dos tipos de clases mayoritarias."
   ]
  },
  {
   "cell_type": "code",
   "execution_count": 22,
   "metadata": {},
   "outputs": [
    {
     "data": {
      "text/plain": [
       "<matplotlib.axes._subplots.AxesSubplot at 0x7fdee413d9e8>"
      ]
     },
     "execution_count": 22,
     "metadata": {},
     "output_type": "execute_result"
    },
    {
     "data": {
      "image/png": "[encoded data removed]",
      "text/plain": [
       "<Figure size 1440x1440 with 1 Axes>"
      ]
     },
     "metadata": {
      "needs_background": "light"
     },
     "output_type": "display_data"
    }
   ],
   "source": [
    "vehiculos.cilindros.hist()"
   ]
  },
  {
   "cell_type": "code",
   "execution_count": 23,
   "metadata": {},
   "outputs": [
    {
     "data": {
      "text/plain": [
       "<matplotlib.axes._subplots.AxesSubplot at 0x7fdee7b53080>"
      ]
     },
     "execution_count": 23,
     "metadata": {},
     "output_type": "execute_result"
    },
    {
     "data": {
      "image/png": "[encoded data removed]",
      "text/plain": [
       "<Figure size 1440x1440 with 1 Axes>"
      ]
     },
     "metadata": {
      "needs_background": "light"
     },
     "output_type": "display_data"
    }
   ],
   "source": [
    "vehiculos.combustible.value_counts(normalize=True).plot.barh()"
   ]
  },
  {
   "cell_type": "markdown",
   "metadata": {},
   "source": [
    "Vemos que la columna combustible si puede tener un problema al tener un 65%\n",
    "de los casos 65% de los casos gasolina Regular"
   ]
  },
  {
   "cell_type": "markdown",
   "metadata": {},
   "source": [
    "# Valores Inexistentes"
   ]
  },
  {
   "cell_type": "code",
   "execution_count": 26,
   "metadata": {},
   "outputs": [
    {
     "name": "stdout",
     "output_type": "stream",
     "text": [
      "fabricante | 0.0 | object\n",
      "modelo | 0.0 | object\n",
      "year | 0.0 | int64\n",
      "desplazamiento | 0.0037909558624424585 | float64\n",
      "cilindros | 0.003845112374763065 | float64\n",
      "transmision | 0.00029786081776333605 | object\n",
      "traccion | 0.02158137015976171 | object\n",
      "clase | 0.0 | object\n",
      "combustible | 0.0 | object\n",
      "consumo | 0.0 | int64\n",
      "co2 | 0.0 | float64\n"
     ]
    }
   ],
   "source": [
    "n_records=len(vehiculos)\n",
    "def valores_inexistentes_col(df):\n",
    "    for columna in df:\n",
    "        print(\"{} | {} | {}\".format(\n",
    "        df[columna].name,len(df[df[columna].isnull()])/(1.0*n_records),df[columna].dtype\n",
    "        ))\n",
    "valores_inexistentes_col(vehiculos)"
   ]
  },
  {
   "cell_type": "markdown",
   "metadata": {},
   "source": [
    "La anterior funcion recive como parametro el data frame, e itera para cada columna en el data frame\n",
    "imprimindo el nombre de la columna, el porcentaje de campos vacios y el tipo de dato en la columna\n",
    "por ultimo pasamos como parametro el data frame de vehiculos a la funcion"
   ]
  },
  {
   "cell_type": "markdown",
   "metadata": {},
   "source": [
    "Vemos que el cmpo traccion,cilindro y transmicion tienen valores inexistentes.\n",
    "Sin embargo son cantidades despresiables(el maximo es la variable traccion con un 3% inexistente)"
   ]
  },
  {
   "cell_type": "markdown",
   "metadata": {},
   "source": [
    "# Valores extremos(outliers)"
   ]
  },
  {
   "cell_type": "markdown",
   "metadata": {},
   "source": [
    "Para detectar valores extremos una medida general es  considerar aquellos outliers cuyos valores con una puntuacion Z(z score) es mayor de 3 , esto es, que se alejan 3 veces o mas de la desviacion standard de la media \n",
    "$$z(x)=\\frac{x-\\mu}{\\sigma}$$"
   ]
  },
  {
   "cell_type": "markdown",
   "metadata": {},
   "source": [
    "z es al valor de muestreo restarle la media , y dividirlo entre la desviacion estandar\n",
    ".Lo cual nos dice cuantas desviacines estandars una medicion esta alejada de la media "
   ]
  },
  {
   "cell_type": "code",
   "execution_count": 35,
   "metadata": {},
   "outputs": [
    {
     "name": "stdout",
     "output_type": "stream",
     "text": [
      "year| 0 |int64\n",
      "desplazamiento| 0 |float64\n",
      "cilindros| 0 |float64\n",
      "consumo| 233 |int64\n",
      "co2| 358 |float64\n"
     ]
    },
    {
     "name": "stderr",
     "output_type": "stream",
     "text": [
      "/home/jose/.local/lib/python3.6/site-packages/ipykernel_launcher.py:10: RuntimeWarning: invalid value encountered in greater\n",
      "  # Remove the CWD from sys.path while we load stuff.\n"
     ]
    }
   ],
   "source": [
    "from scipy import stats\n",
    "import numpy as np\n",
    "\n",
    "\n",
    "def outliers_col(df):\n",
    "    for columna in df:\n",
    "        #Para cada columna con variable numerica \n",
    "        if vehiculos[columna].dtype!=np.object:\n",
    "            #Los numeros mayores que 3 del valor de Z \n",
    "            n_outliers=len(vehiculos[np.abs(stats.zscore(vehiculos[columna]))>3])\n",
    "            print(\"{}| {} |{}\".format(\n",
    "                df[columna].name,\n",
    "                n_outliers,\n",
    "                df[columna].dtype\n",
    "            ))          \n",
    "outliers_col(vehiculos)            "
   ]
  },
  {
   "cell_type": "markdown",
   "metadata": {},
   "source": [
    "Vemos que las variables de consumo y co2 tienen outliers. Podemos hacer un boxplot para visualizar esto mejor"
   ]
  },
  {
   "cell_type": "code",
   "execution_count": 36,
   "metadata": {},
   "outputs": [
    {
     "data": {
      "text/plain": [
       "<matplotlib.axes._subplots.AxesSubplot at 0x7fdee1ef1e80>"
      ]
     },
     "execution_count": 36,
     "metadata": {},
     "output_type": "execute_result"
    },
    {
     "data": {
      "image/png": "[encoded data removed]",
      "text/plain": [
       "<Figure size 1440x1440 with 1 Axes>"
      ]
     },
     "metadata": {
      "needs_background": "light"
     },
     "output_type": "display_data"
    }
   ],
   "source": [
    "vehiculos.boxplot(column=\"consumo\")"
   ]
  },
  {
   "cell_type": "code",
   "execution_count": 37,
   "metadata": {},
   "outputs": [
    {
     "data": {
      "text/plain": [
       "<matplotlib.axes._subplots.AxesSubplot at 0x7fdee178d978>"
      ]
     },
     "execution_count": 37,
     "metadata": {},
     "output_type": "execute_result"
    },
    {
     "data": {
      "image/png": "[encoded data removed]",
      "text/plain": [
       "<Figure size 1440x1440 with 1 Axes>"
      ]
     },
     "metadata": {
      "needs_background": "light"
     },
     "output_type": "display_data"
    }
   ],
   "source": [
    "vehiculos.boxplot(column=\"co2\")"
   ]
  },
  {
   "cell_type": "markdown",
   "metadata": {},
   "source": [
    "Vemos en cuanto al consuo hay unos coches que contaminan mas de lo normal y otros que contaminan menos de lo normal,\n",
    "tambien vemos que hay coches que no contaminan nada!"
   ]
  },
  {
   "cell_type": "code",
   "execution_count": 38,
   "metadata": {},
   "outputs": [
    {
     "data": {
      "text/plain": [
       "array(['Electricity'], dtype=object)"
      ]
     },
     "execution_count": 38,
     "metadata": {},
     "output_type": "execute_result"
    }
   ],
   "source": [
    "vehiculos[vehiculos.co2==0].combustible.unique()"
   ]
  },
  {
   "cell_type": "code",
   "execution_count": 39,
   "metadata": {},
   "outputs": [
    {
     "data": {
      "text/plain": [
       "array(['Regular', 'Premium', 'Diesel', 'Premium and Electricity',\n",
       "       'Premium or E85', 'Electricity', 'Premium Gas or Electricity',\n",
       "       'Gasoline or E85', 'Gasoline or natural gas', 'CNG',\n",
       "       'Regular Gas or Electricity', 'Midgrade',\n",
       "       'Regular Gas and Electricity', 'Gasoline or propane'], dtype=object)"
      ]
     },
     "execution_count": 39,
     "metadata": {},
     "output_type": "execute_result"
    }
   ],
   "source": [
    "vehiculos.combustible.unique()"
   ]
  },
  {
   "cell_type": "markdown",
   "metadata": {},
   "source": [
    "Vemos que en este dataset hay vehiculos hibridos y vehiculos electricos puros .Dado que el objetivo es la contaminacion , convendria remover al  menos los vehiculos que no contaminan!"
   ]
  },
  {
   "cell_type": "code",
   "execution_count": 40,
   "metadata": {},
   "outputs": [],
   "source": [
    "vehiculos_no_electricos=vehiculos[vehiculos.co2>0]"
   ]
  },
  {
   "cell_type": "markdown",
   "metadata": {},
   "source": [
    "Ya que hemos descubierto esto, volvamos a revisar los datos con el  nuevo dataset"
   ]
  },
  {
   "cell_type": "code",
   "execution_count": 43,
   "metadata": {},
   "outputs": [
    {
     "name": "stdout",
     "output_type": "stream",
     "text": [
      "year| 0 |int64\n",
      "desplazamiento| 0 |float64\n",
      "cilindros| 0 |float64\n",
      "consumo| 233 |int64\n",
      "co2| 358 |float64\n"
     ]
    },
    {
     "name": "stderr",
     "output_type": "stream",
     "text": [
      "/home/jose/.local/lib/python3.6/site-packages/ipykernel_launcher.py:10: RuntimeWarning: invalid value encountered in greater\n",
      "  # Remove the CWD from sys.path while we load stuff.\n"
     ]
    }
   ],
   "source": [
    "outliers_col(vehiculos_no_electricos)"
   ]
  },
  {
   "cell_type": "code",
   "execution_count": 44,
   "metadata": {},
   "outputs": [
    {
     "name": "stdout",
     "output_type": "stream",
     "text": [
      "fabricante | 0.099 - 0.0 |object\n",
      "modelo | 0.005 - 0.0 |object\n",
      "year | 0.038 - 0.007 |int64\n",
      "desplazamiento | 0.095 - 0.0 |float64\n",
      "cilindros | 0.38 - 0.0 |float64\n",
      "transmision | 0.287 - 0.0 |object\n",
      "traccion | 0.351 - 0.005 |object\n",
      "clase | 0.145 - 0.0 |object\n",
      "combustible | 0.652 - 0.0 |object\n",
      "consumo | 0.097 - 0.0 |int64\n",
      "co2 | 0.084 - 0.0 |float64\n"
     ]
    }
   ],
   "source": [
    "valores_duplicados_col(vehiculos_no_electricos)"
   ]
  },
  {
   "cell_type": "markdown",
   "metadata": {},
   "source": [
    "# Valores Inexistentes\n"
   ]
  },
  {
   "cell_type": "code",
   "execution_count": 45,
   "metadata": {
    "scrolled": true
   },
   "outputs": [
    {
     "name": "stdout",
     "output_type": "stream",
     "text": [
      "fabricante | 0.0 | object\n",
      "modelo | 0.0 | object\n",
      "year | 0.0 | int64\n",
      "desplazamiento | 5.415651232060655e-05 | float64\n",
      "cilindros | 8.123476848090982e-05 | float64\n",
      "transmision | 5.415651232060655e-05 | object\n",
      "traccion | 0.021364744110479283 | object\n",
      "clase | 0.0 | object\n",
      "combustible | 0.0 | object\n",
      "consumo | 0.0 | int64\n",
      "co2 | 0.0 | float64\n"
     ]
    }
   ],
   "source": [
    "valores_inexistentes_col(vehiculos_no_electricos)"
   ]
  },
  {
   "cell_type": "markdown",
   "metadata": {},
   "source": [
    "Ahora veremos que no hay valores inexistentes en ninguna variable. La variable con mayor numero de valores inexixtentes es la traccion .\n",
    "(2%), Obiamente los coches electricos no tienen motor de gasolina y por lo tanto, no tienen cilindros."
   ]
  },
  {
   "cell_type": "markdown",
   "metadata": {},
   "source": [
    "# Conclusiones\n",
    "    Hay 1506 records duplicados(los hemos removido)\n",
    "    Las variables desplazamiento, cilindros, transmision y traccion tiene valores inexistentes\n",
    "    La variable combustible tiene una clase dominante(65% de los coches tienen combustible Regular).\n",
    "    Hay un outlier en la cantidad de coches con una variable de 2018.\n",
    "    Hay coches hibridos y coches electricos (hemos removido estos ultimos porque no contaminan)."
   ]
  },
  {
   "cell_type": "markdown",
   "metadata": {},
   "source": [
    "# Exportamos"
   ]
  },
  {
   "cell_type": "code",
   "execution_count": 48,
   "metadata": {},
   "outputs": [],
   "source": [
    "vehiculos_no_electricos.to_csv((\"/home/jose/data/vehiculos_2_limpio_analisis.csv\"),index=False)"
   ]
  }
 ],
 "metadata": {
  "kernelspec": {
   "display_name": "Python 3",
   "language": "python",
   "name": "python3"
  },
  "language_info": {
   "codemirror_mode": {
    "name": "ipython",
    "version": 3
   },
   "file_extension": ".py",
   "mimetype": "text/x-python",
   "name": "python",
   "nbconvert_exporter": "python",
   "pygments_lexer": "ipython3",
   "version": "3.6.7"
  }
 },
 "nbformat": 4,
 "nbformat_minor": 2
}
