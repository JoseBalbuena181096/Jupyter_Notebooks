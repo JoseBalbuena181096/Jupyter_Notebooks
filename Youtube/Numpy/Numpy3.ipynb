{
 "cells": [
  {
   "cell_type": "code",
   "execution_count": 2,
   "metadata": {},
   "outputs": [
    {
     "name": "stdout",
     "output_type": "stream",
     "text": [
      "[2 3 4]\n",
      "[[2 5 1]\n",
      " [5 6 3]\n",
      " [8 9 2]]\n"
     ]
    }
   ],
   "source": [
    "#Numpy2\n",
    "import numpy as np\n",
    "a=np.array([2,3,4])\n",
    "b=np.array([[2,5,1],[5,6,3],[8,9,2]])\n",
    "print(a)\n",
    "print(b)"
   ]
  },
  {
   "cell_type": "code",
   "execution_count": 3,
   "metadata": {},
   "outputs": [
    {
     "name": "stdout",
     "output_type": "stream",
     "text": [
      "Numero de elementos en a:  3\n",
      "Numero de elementos en b:  9\n"
     ]
    }
   ],
   "source": [
    "print(\"Numero de elementos en a: \",a.size)\n",
    "print(\"Numero de elementos en b: \",b.size)"
   ]
  },
  {
   "cell_type": "code",
   "execution_count": 7,
   "metadata": {},
   "outputs": [
    {
     "data": {
      "text/plain": [
       "array([12.1 , 13.  , 17.3 , 18.35, 20.9 ])"
      ]
     },
     "execution_count": 7,
     "metadata": {},
     "output_type": "execute_result"
    }
   ],
   "source": [
    "#Creamos una lista con las temperaturas\n",
    "Temperatura_Celcius=[12.10,13.00,17.30,18.35,20.90]\n",
    "#Convertimos la lista a un arreglo\n",
    "arregloTemperatura=np.array(Temperatura_Celcius)\n",
    "arregloTemperatura"
   ]
  },
  {
   "cell_type": "code",
   "execution_count": 10,
   "metadata": {},
   "outputs": [
    {
     "data": {
      "text/plain": [
       "array([285.25, 286.15, 290.45, 291.5 , 294.05])"
      ]
     },
     "execution_count": 10,
     "metadata": {},
     "output_type": "execute_result"
    }
   ],
   "source": [
    "#Pasar este arreglo de temperatura  a kelvil\n",
    "kelvin=arregloTemperatura+273.15\n",
    "kelvin"
   ]
  },
  {
   "cell_type": "code",
   "execution_count": 12,
   "metadata": {},
   "outputs": [
    {
     "name": "stdout",
     "output_type": "stream",
     "text": [
      "Valor anterior 1\n",
      "Valor actual 2\n",
      "Valor anterior 2\n",
      "Valor actual 4\n",
      "Valor anterior 3\n",
      "Valor actual 6\n",
      "Valor anterior 4\n",
      "Valor actual 8\n",
      "Valor anterior 5\n",
      "Valor actual 10\n",
      "Valor anterior 6\n",
      "Valor actual 12\n",
      "Valor anterior 7\n",
      "Valor actual 14\n",
      "Valor anterior 8\n",
      "Valor actual 16\n",
      "Valor anterior 9\n",
      "Valor actual 18\n",
      "Valor anterior 10\n",
      "Valor actual 20\n",
      "Valor anterior 11\n",
      "Valor actual 22\n",
      "Valor anterior 12\n",
      "Valor actual 24\n"
     ]
    }
   ],
   "source": [
    "#Recorrer arreglos\n",
    "t=np.array([0,1,2,3,4,5,6,7,8,9,10,11,12])\n",
    "for i in range(0,len(t)-1):\n",
    "    print(\"Valor anterior\",t[i+1])\n",
    "    t[i+1]=t[i+1]*2\n",
    "    print(\"Valor actual\",t[i+1])"
   ]
  },
  {
   "cell_type": "code",
   "execution_count": 13,
   "metadata": {},
   "outputs": [
    {
     "name": "stdout",
     "output_type": "stream",
     "text": [
      "Valor anterior 1\n",
      "Valor actual 2\n",
      "Valor anterior 3\n",
      "Valor actual 6\n",
      "Valor anterior 5\n",
      "Valor actual 10\n",
      "Valor anterior 7\n",
      "Valor actual 14\n",
      "Valor anterior 9\n",
      "Valor actual 18\n",
      "Valor anterior 11\n",
      "Valor actual 22\n"
     ]
    }
   ],
   "source": [
    "#Recorrer arreglos salteando \n",
    "t=np.array([0,1,2,3,4,5,6,7,8,9,10,11,12])\n",
    "for i in range(0,len(t)-1,2):\n",
    "    print(\"Valor anterior\",t[i+1])\n",
    "    t[i+1]=t[i+1]*2\n",
    "    print(\"Valor actual\",t[i+1])"
   ]
  },
  {
   "cell_type": "code",
   "execution_count": 59,
   "metadata": {},
   "outputs": [
    {
     "data": {
      "text/plain": [
       "array([[1, 2],\n",
       "       [0, 2]])"
      ]
     },
     "execution_count": 59,
     "metadata": {},
     "output_type": "execute_result"
    }
   ],
   "source": [
    "A=np.array([[1,1],[0,1]])\n",
    "#i para renglones y j para columnas\n",
    "for j in range(0,2):\n",
    "    A[j][1]=A[j][1]*2\n",
    "A"
   ]
  },
  {
   "cell_type": "code",
   "execution_count": 63,
   "metadata": {},
   "outputs": [],
   "source": [
    "#Como realizar operaciones matriciales \n",
    "#Importamos la clase matrices\n",
    "from numpy import matrix\n",
    "c=matrix([[1,3,-5],[3,4,2],[-5,2,0]])\n",
    "d=matrix([[1],[5],[3]])"
   ]
  },
  {
   "cell_type": "code",
   "execution_count": 64,
   "metadata": {},
   "outputs": [
    {
     "data": {
      "text/plain": [
       "matrix([[ 1],\n",
       "        [29],\n",
       "        [ 5]])"
      ]
     },
     "execution_count": 64,
     "metadata": {},
     "output_type": "execute_result"
    }
   ],
   "source": [
    "#Miltiplicacion de matrices reglon por columna\n",
    "c*d"
   ]
  },
  {
   "cell_type": "code",
   "execution_count": 66,
   "metadata": {},
   "outputs": [
    {
     "data": {
      "text/plain": [
       "array([[ 0.02439024,  0.06097561, -0.15853659],\n",
       "       [ 0.06097561,  0.15243902,  0.10365854],\n",
       "       [-0.15853659,  0.10365854,  0.0304878 ]])"
      ]
     },
     "execution_count": 66,
     "metadata": {},
     "output_type": "execute_result"
    }
   ],
   "source": [
    "#Operacion de inversa de una matriz\n",
    "from scipy import linalg\n",
    "inversa_C=linalg.inv(c)\n",
    "inversa_C"
   ]
  },
  {
   "cell_type": "code",
   "execution_count": 68,
   "metadata": {},
   "outputs": [
    {
     "data": {
      "text/plain": [
       "array([[-0.14634146],\n",
       "       [ 1.13414634],\n",
       "       [ 0.45121951]])"
      ]
     },
     "execution_count": 68,
     "metadata": {},
     "output_type": "execute_result"
    }
   ],
   "source": [
    "#Para obtener la solucion de sistema de ecuaciones lineales\n",
    "solution=(linalg.solve(c,d))\n",
    "solution"
   ]
  },
  {
   "cell_type": "code",
   "execution_count": 69,
   "metadata": {},
   "outputs": [
    {
     "data": {
      "text/plain": [
       "array([-3., -2.])"
      ]
     },
     "execution_count": 69,
     "metadata": {},
     "output_type": "execute_result"
    }
   ],
   "source": [
    "#Modulo de Numpy para obtener los ceros polinomios\n",
    "from numpy.polynomial import Polynomial as P\n",
    "#Polinomio X^2+5X+6\n",
    "p=P([6,5,1])\n",
    "p.roots()"
   ]
  },
  {
   "cell_type": "code",
   "execution_count": 73,
   "metadata": {},
   "outputs": [
    {
     "name": "stdout",
     "output_type": "stream",
     "text": [
      "Término cuadrático:1\n",
      "Término lineal:2\n",
      "Término indenpendiente:3\n"
     ]
    }
   ],
   "source": [
    "# Forma mas convencional \n",
    "P=np.zeros([3])\n",
    "P[0]=float(input(\"Término cuadrático:\"))\n",
    "P[1]=float(input(\"Término lineal:\"))\n",
    "P[2]=float(input(\"Término indenpendiente:\"))"
   ]
  },
  {
   "cell_type": "code",
   "execution_count": 72,
   "metadata": {},
   "outputs": [
    {
     "data": {
      "text/plain": [
       "array([-0.5+0.8660254j, -0.5-0.8660254j])"
      ]
     },
     "execution_count": 72,
     "metadata": {},
     "output_type": "execute_result"
    }
   ],
   "source": [
    "np.roots(P)"
   ]
  },
  {
   "cell_type": "code",
   "execution_count": 80,
   "metadata": {},
   "outputs": [
    {
     "data": {
      "text/plain": [
       "array([ 4., -2.,  3.])"
      ]
     },
     "execution_count": 80,
     "metadata": {},
     "output_type": "execute_result"
    }
   ],
   "source": [
    "#Equaciones lineales\n",
    "import numpy as np\n",
    "a=np.array([[2,4,6],[4,5,6],[3,1,-2]])\n",
    "b=np.array([18,24,4])\n",
    "solution_ecuation=np.linalg.solve(a,b)\n",
    "solution_ecuation"
   ]
  },
  {
   "cell_type": "code",
   "execution_count": 90,
   "metadata": {},
   "outputs": [
    {
     "data": {
      "image/png": "[encoded data removed]",
      "text/plain": [
       "<Figure size 432x288 with 1 Axes>"
      ]
     },
     "metadata": {
      "needs_background": "light"
     },
     "output_type": "display_data"
    }
   ],
   "source": [
    "#Poliomios de Lagrade para hacer el ajuste para datos intermedios\n",
    "from scipy.interpolate import lagrange\n",
    "import matplotlib.pyplot as plt\n",
    "x=[1,2,4]\n",
    "y=[2,3,-1]\n",
    "#para dispercion\n",
    "plt.plot(x,y,\"o\")\n",
    "plt.ylabel(\"Y\")\n",
    "plt.xlabel(\"X\")\n",
    "plt.show()"
   ]
  },
  {
   "cell_type": "code",
   "execution_count": 92,
   "metadata": {},
   "outputs": [
    {
     "data": {
      "text/plain": [
       "poly1d([-1.,  4., -1.])"
      ]
     },
     "execution_count": 92,
     "metadata": {},
     "output_type": "execute_result"
    }
   ],
   "source": [
    "#Calcular con el polinomio de lagrage\n",
    "p=lagrange(x,y)\n",
    "p"
   ]
  },
  {
   "cell_type": "code",
   "execution_count": 97,
   "metadata": {},
   "outputs": [
    {
     "data": {
      "text/plain": [
       "3.0"
      ]
     },
     "execution_count": 97,
     "metadata": {},
     "output_type": "execute_result"
    }
   ],
   "source": [
    "#Evaluar en x=2\n",
    "p(2)\n",
    "#Podemos observar que responde a y(x)=3"
   ]
  },
  {
   "cell_type": "code",
   "execution_count": 101,
   "metadata": {
    "scrolled": true
   },
   "outputs": [
    {
     "data": {
      "image/png": "[encoded data removed]",
      "text/plain": [
       "<Figure size 432x288 with 1 Axes>"
      ]
     },
     "metadata": {
      "needs_background": "light"
     },
     "output_type": "display_data"
    }
   ],
   "source": [
    "#Valores para X\n",
    "x1=[0.5,1.0,1.5,2.0,2.5,3.0]\n",
    "#Valores para Y\n",
    "y1=[1.143,1.0,0.828,0.667,0.533,0.428]\n",
    "#graficamos datos\n",
    "plt.plot(x1,y1,\"o\")\n",
    "plt.xlabel(\"X1\")\n",
    "plt.ylabel(\"Y1\")\n",
    "#Obtenemos el polinomio de lagrange\n",
    "polinomio=lagrange(x1,y1)"
   ]
  },
  {
   "cell_type": "code",
   "execution_count": 103,
   "metadata": {},
   "outputs": [
    {
     "data": {
      "text/plain": [
       "0.42800000000021776"
      ]
     },
     "execution_count": 103,
     "metadata": {},
     "output_type": "execute_result"
    }
   ],
   "source": [
    "#observamos el valor del polinomio\n",
    "polinomio(3)"
   ]
  },
  {
   "cell_type": "code",
   "execution_count": null,
   "metadata": {},
   "outputs": [],
   "source": []
  }
 ],
 "metadata": {
  "kernelspec": {
   "display_name": "Python 3",
   "language": "python",
   "name": "python3"
  },
  "language_info": {
   "codemirror_mode": {
    "name": "ipython",
    "version": 3
   },
   "file_extension": ".py",
   "mimetype": "text/x-python",
   "name": "python",
   "nbconvert_exporter": "python",
   "pygments_lexer": "ipython3",
   "version": "3.6.7"
  }
 },
 "nbformat": 4,
 "nbformat_minor": 2
}
