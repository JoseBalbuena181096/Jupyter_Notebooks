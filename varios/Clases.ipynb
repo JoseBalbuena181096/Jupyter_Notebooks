{
 "cells": [
  {
   "cell_type": "code",
   "execution_count": null,
   "metadata": {},
   "outputs": [],
   "source": [
    "#Objetos python"
   ]
  },
  {
   "cell_type": "code",
   "execution_count": 26,
   "metadata": {},
   "outputs": [],
   "source": [
    "\"\"\"\n",
    "Ejemplo de implementacion con programacion Estructurada\n",
    "\"\"\"\n",
    "clientes=[{\"Nombre\":\"Hector\",\"Apellidos\":\"Costa Guzman\",\"dni\":\"11111111A\"},\n",
    "          {\"Nombre\":\"Juan\",\"Apellidos\":\"González Márquez\",\"dni\":\"22222222B\"}\n",
    "         ]"
   ]
  },
  {
   "cell_type": "code",
   "execution_count": 22,
   "metadata": {},
   "outputs": [
    {
     "data": {
      "text/plain": [
       "[{'Nombre': 'Hector', 'Apellidos': 'Costa Guzman', 'dni': '11111111A'},\n",
       " {'Nombre': 'Juan', 'Apellidos': 'González Márquez', 'dni': '22222222B'}]"
      ]
     },
     "execution_count": 22,
     "metadata": {},
     "output_type": "execute_result"
    }
   ],
   "source": [
    "clientes"
   ]
  },
  {
   "cell_type": "code",
   "execution_count": 11,
   "metadata": {},
   "outputs": [],
   "source": [
    "def mostrar_cliente(clientes,dni):\n",
    "    for cliente in clientes:\n",
    "        if(dni==cliente[\"dni\"]):\n",
    "            print(\"{} {}\".format(cliente[\"Nombre\"],cliente[\"Apellidos\"]))\n",
    "            return\n",
    "        print(\"Cliente no encontrado\")"
   ]
  },
  {
   "cell_type": "code",
   "execution_count": 12,
   "metadata": {},
   "outputs": [
    {
     "name": "stdout",
     "output_type": "stream",
     "text": [
      "Hector Costa Guzman\n"
     ]
    }
   ],
   "source": [
    "mostrar_cliente(clientes,\"11111111A\")"
   ]
  },
  {
   "cell_type": "code",
   "execution_count": 27,
   "metadata": {},
   "outputs": [],
   "source": [
    "def borrar_cliente(clientes,dni):\n",
    "    for i,cliente in enumerate(clientes):\n",
    "        if(dni==cliente[\"dni\"]):\n",
    "            print(clientes[i])\n",
    "            del(clientes[i])\n",
    "            print(str(cliente),\">BORRADO\")\n",
    "            return\n",
    "    print(\"Cliente no encontrado\")"
   ]
  },
  {
   "cell_type": "code",
   "execution_count": 28,
   "metadata": {},
   "outputs": [
    {
     "name": "stdout",
     "output_type": "stream",
     "text": [
      "{'Nombre': 'Juan', 'Apellidos': 'González Márquez', 'dni': '22222222B'}\n",
      "{'Nombre': 'Juan', 'Apellidos': 'González Márquez', 'dni': '22222222B'} >BORRADO\n"
     ]
    }
   ],
   "source": [
    "borrar_cliente(clientes,'22222222B')"
   ]
  },
  {
   "cell_type": "code",
   "execution_count": 30,
   "metadata": {},
   "outputs": [],
   "source": [
    "#La clase es como un molde para crear objetos\n",
    "#Para distingir clases la primer letra con mayuscula\n",
    "class Galleta:\n",
    "    pass\n",
    "una_galleta=Galleta()\n",
    "otra_galleta=Galleta()\n",
    "#INSTANCIACIO DE LA CLASE ES UN OBJETO, EXISTE  SOLO \n",
    "#EN EL CICLO DEL PROGRAMA"
   ]
  },
  {
   "cell_type": "code",
   "execution_count": 31,
   "metadata": {},
   "outputs": [
    {
     "data": {
      "text/plain": [
       "__main__.Galleta"
      ]
     },
     "execution_count": 31,
     "metadata": {},
     "output_type": "execute_result"
    }
   ],
   "source": [
    "type(una_galleta)"
   ]
  },
  {
   "cell_type": "code",
   "execution_count": 32,
   "metadata": {},
   "outputs": [
    {
     "data": {
      "text/plain": [
       "int"
      ]
     },
     "execution_count": 32,
     "metadata": {},
     "output_type": "execute_result"
    }
   ],
   "source": [
    "type(10)"
   ]
  },
  {
   "cell_type": "code",
   "execution_count": 33,
   "metadata": {},
   "outputs": [
    {
     "data": {
      "text/plain": [
       "str"
      ]
     },
     "execution_count": 33,
     "metadata": {},
     "output_type": "execute_result"
    }
   ],
   "source": [
    "type(\"Hola\")"
   ]
  },
  {
   "cell_type": "code",
   "execution_count": 35,
   "metadata": {},
   "outputs": [
    {
     "data": {
      "text/plain": [
       "dict"
      ]
     },
     "execution_count": 35,
     "metadata": {},
     "output_type": "execute_result"
    }
   ],
   "source": [
    "type({})"
   ]
  },
  {
   "cell_type": "code",
   "execution_count": 36,
   "metadata": {},
   "outputs": [
    {
     "data": {
      "text/plain": [
       "function"
      ]
     },
     "execution_count": 36,
     "metadata": {},
     "output_type": "execute_result"
    }
   ],
   "source": [
    "def hola():\n",
    "    pass\n",
    "type(hola)"
   ]
  },
  {
   "cell_type": "code",
   "execution_count": 37,
   "metadata": {},
   "outputs": [],
   "source": [
    "#Atributos y metodos de una clase\n",
    "class Galleta:\n",
    "    pass\n",
    "una_galleta=Galleta()"
   ]
  },
  {
   "cell_type": "code",
   "execution_count": 38,
   "metadata": {},
   "outputs": [
    {
     "name": "stdout",
     "output_type": "stream",
     "text": [
      "El sabor de esta galleta es  Salado\n"
     ]
    }
   ],
   "source": [
    "una_galleta.sabor=\"Salado\"\n",
    "una_galleta.color=\"Marrón\"\n",
    "print(\"El sabor de esta galleta es \",una_galleta.sabor)"
   ]
  },
  {
   "cell_type": "code",
   "execution_count": 39,
   "metadata": {},
   "outputs": [
    {
     "data": {
      "text/plain": [
       "False"
      ]
     },
     "execution_count": 39,
     "metadata": {},
     "output_type": "execute_result"
    }
   ],
   "source": [
    "class Galleta:\n",
    "    chocolate=False\n",
    "g=Galleta()\n",
    "g.chocolate"
   ]
  },
  {
   "cell_type": "code",
   "execution_count": 40,
   "metadata": {},
   "outputs": [
    {
     "data": {
      "text/plain": [
       "True"
      ]
     },
     "execution_count": 40,
     "metadata": {},
     "output_type": "execute_result"
    }
   ],
   "source": [
    "g.chocolate=True\n",
    "g.chocolate"
   ]
  },
  {
   "cell_type": "code",
   "execution_count": 43,
   "metadata": {},
   "outputs": [
    {
     "name": "stdout",
     "output_type": "stream",
     "text": [
      "Se acaba de crear una galleta\n"
     ]
    }
   ],
   "source": [
    "class Galleta():\n",
    "    chocolate=False\n",
    "    #Self requisito implicito en los metodos\n",
    "    def __init__(self):\n",
    "        print(\"Se acaba de crear una galleta\")\n",
    "g=Galleta()"
   ]
  },
  {
   "cell_type": "code",
   "execution_count": 48,
   "metadata": {},
   "outputs": [
    {
     "name": "stdout",
     "output_type": "stream",
     "text": [
      "Se acaba de crear una galleta\n"
     ]
    },
    {
     "data": {
      "text/plain": [
       "True"
      ]
     },
     "execution_count": 48,
     "metadata": {},
     "output_type": "execute_result"
    }
   ],
   "source": [
    "class Galleta():\n",
    "    chocolate=False\n",
    "    #Self requisito implicito en los metodos\n",
    "    def __init__(self):\n",
    "        print(\"Se acaba de crear una galleta\")\n",
    "    \n",
    "    def chocolatear(self):\n",
    "        #Para poder acceder al atributo de clase se añade self\n",
    "        self.chocolate=True\n",
    "    def tiene_chocolate(self):\n",
    "        if(self.chocolate):\n",
    "            print(\"Soy una galleta con chocolate :-D\")\n",
    "        else:\n",
    "            print(\"No soy una galleta sin chocolate :(\")\n",
    "        \n",
    "g=Galleta()\n",
    "g.chocolatear()\n",
    "g.chocolate"
   ]
  },
  {
   "cell_type": "code",
   "execution_count": 62,
   "metadata": {},
   "outputs": [
    {
     "name": "stdout",
     "output_type": "stream",
     "text": [
      "Se acaba de crear una galleta Salada y Cuadrada\n"
     ]
    }
   ],
   "source": [
    "class Galleta():\n",
    "    chocolate=False\n",
    "    #Self requisito implicito en los metodos\n",
    "    def __init__(self,sabor=None,forma=None):\n",
    "        self.sabor=sabor\n",
    "        self.forma=forma\n",
    "        if sabor is not None and forma is not None:\n",
    "            print(\"Se acaba de crear una galleta {} y {}\".format(sabor,forma))\n",
    "    \n",
    "    def chocolatear(self):\n",
    "        #Para poder acceder al atributo de clase se añade self\n",
    "        self.chocolate=True\n",
    "    def tiene_chocolate(self):\n",
    "        if(self.chocolate):\n",
    "            print(\"Soy una galleta con chocolate :-D\")\n",
    "        else:\n",
    "            print(\"No soy una galleta sin chocolate :(\")\n",
    "g=Galleta(\"Salada\",\"Cuadrada\")"
   ]
  },
  {
   "cell_type": "code",
   "execution_count": 60,
   "metadata": {},
   "outputs": [
    {
     "name": "stdout",
     "output_type": "stream",
     "text": [
      "Se acaba de crear una galleta None y None\n"
     ]
    }
   ],
   "source": [
    "g=Galleta()"
   ]
  },
  {
   "cell_type": "code",
   "execution_count": 68,
   "metadata": {},
   "outputs": [
    {
     "name": "stdout",
     "output_type": "stream",
     "text": [
      "Se ha creado la pelicula  El padrino\n",
      "Se esta borrando la pelicula El padrino\n"
     ]
    }
   ],
   "source": [
    "#Metodos especiales\n",
    "class Pelicula:\n",
    "    #Metodo constructor de clase\n",
    "    def __init__(self,titulo,duracion,lanzamiento):\n",
    "        self.titulo=titulo\n",
    "        self.duracion=duracion\n",
    "        self.lanzamiento=lanzamiento\n",
    "        print(\"Se ha creado la pelicula \",self.titulo)\n",
    "    #Destructor\n",
    "    def __del__(self):\n",
    "        print(\"Se esta borrando la pelicula\",self.titulo)\n",
    "    #Redefinimos el metodo string\n",
    "    def __str__(self):\n",
    "        return\"{} lanzada en {} con una duracion de minutos {}\".format(self.titulo,self.lanzamiento,self.duracion)\n",
    "p=Pelicula(\"El padrino\",175,1972)"
   ]
  },
  {
   "cell_type": "code",
   "execution_count": 66,
   "metadata": {},
   "outputs": [
    {
     "data": {
      "text/plain": [
       "'10'"
      ]
     },
     "execution_count": 66,
     "metadata": {},
     "output_type": "execute_result"
    }
   ],
   "source": [
    "str(10)"
   ]
  },
  {
   "cell_type": "code",
   "execution_count": 69,
   "metadata": {},
   "outputs": [
    {
     "data": {
      "text/plain": [
       "'El padrino lanzada en 1972 con una duracion de minutos 175'"
      ]
     },
     "execution_count": 69,
     "metadata": {},
     "output_type": "execute_result"
    }
   ],
   "source": [
    "str(p)"
   ]
  },
  {
   "cell_type": "code",
   "execution_count": 72,
   "metadata": {},
   "outputs": [
    {
     "name": "stdout",
     "output_type": "stream",
     "text": [
      "Se ha creado la pelicula  El padrino\n",
      "Se esta borrando la pelicula El padrino\n"
     ]
    }
   ],
   "source": [
    "#Metodos especiales\n",
    "class Pelicula:\n",
    "    #Metodo constructor de clase\n",
    "    def __init__(self,titulo,duracion,lanzamiento):\n",
    "        self.titulo=titulo\n",
    "        self.duracion=duracion\n",
    "        self.lanzamiento=lanzamiento\n",
    "        print(\"Se ha creado la pelicula \",self.titulo)\n",
    "    #Destructor\n",
    "    def __del__(self):\n",
    "        print(\"Se esta borrando la pelicula\",self.titulo)\n",
    "    #Redefinimos el metodo string\n",
    "    def __str__(self):\n",
    "        return\"{} lanzada en {} con una duracion de minutos {}\".format(self.titulo,self.lanzamiento,self.duracion)\n",
    "    def __len__(self):\n",
    "        return self.duracion\n",
    "p=Pelicula(\"El padrino\",175,1972)"
   ]
  },
  {
   "cell_type": "code",
   "execution_count": 73,
   "metadata": {},
   "outputs": [
    {
     "data": {
      "text/plain": [
       "175"
      ]
     },
     "execution_count": 73,
     "metadata": {},
     "output_type": "execute_result"
    }
   ],
   "source": [
    "len(p)"
   ]
  },
  {
   "cell_type": "code",
   "execution_count": 106,
   "metadata": {},
   "outputs": [],
   "source": [
    "#Objetos dentro de objetos\n",
    "class Pelicula:\n",
    "    #Constructor de la clase\n",
    "    def __init__(self,titulo,duracion,lanzamiento):\n",
    "        self.titulo=titulo\n",
    "        self.duracion=duracion\n",
    "        self.lanzamiento=lanzamiento\n",
    "        print(\"Se ha creado la pelicula\",self.titulo)\n",
    "    def __str__(self):\n",
    "        return \"{} {}\".format(self.titulo,self.lanzamiento)\n",
    "        "
   ]
  },
  {
   "cell_type": "code",
   "execution_count": 107,
   "metadata": {},
   "outputs": [],
   "source": [
    "class Catalogo:\n",
    "    peliculas=[]\n",
    "    def __init__(self,peliculas=[]):\n",
    "        self.peliculas=peliculas\n",
    "    def agregar(self,p):\n",
    "        self.peliculas.append(p)\n",
    "    def mostrar(self):\n",
    "        for p in self.peliculas:\n",
    "            print(p)"
   ]
  },
  {
   "cell_type": "code",
   "execution_count": 109,
   "metadata": {},
   "outputs": [
    {
     "name": "stdout",
     "output_type": "stream",
     "text": [
      "Se ha creado la pelicula El padrino\n"
     ]
    }
   ],
   "source": [
    "p=Pelicula(\"El padrino\",175,1972)\n",
    "c=Catalogo([p])"
   ]
  },
  {
   "cell_type": "code",
   "execution_count": 110,
   "metadata": {},
   "outputs": [
    {
     "name": "stdout",
     "output_type": "stream",
     "text": [
      "El padrino 1972\n"
     ]
    }
   ],
   "source": [
    "c.mostrar()"
   ]
  },
  {
   "cell_type": "code",
   "execution_count": 112,
   "metadata": {},
   "outputs": [
    {
     "name": "stdout",
     "output_type": "stream",
     "text": [
      "Se ha creado la pelicula El padrino:2\n"
     ]
    }
   ],
   "source": [
    "c.agregar(Pelicula(\"El padrino:2\",175,1995))"
   ]
  },
  {
   "cell_type": "code",
   "execution_count": 113,
   "metadata": {},
   "outputs": [
    {
     "name": "stdout",
     "output_type": "stream",
     "text": [
      "El padrino 1972\n",
      "El padrino:2 1995\n"
     ]
    }
   ],
   "source": [
    "c.mostrar()"
   ]
  },
  {
   "cell_type": "code",
   "execution_count": 114,
   "metadata": {},
   "outputs": [],
   "source": [
    "#Encapsulacion"
   ]
  },
  {
   "cell_type": "code",
   "execution_count": 115,
   "metadata": {},
   "outputs": [],
   "source": [
    "class Ejemplo:\n",
    "    __atributo_privado=\"Soy un atributo inalcnazabele desde fuera\"\n",
    "    def __metodo_privado(self):\n",
    "        print(\"Soy un metodo inalcnzable desde fuera\")"
   ]
  },
  {
   "cell_type": "code",
   "execution_count": 116,
   "metadata": {},
   "outputs": [],
   "source": [
    "e=Ejemplo()"
   ]
  },
  {
   "cell_type": "code",
   "execution_count": 121,
   "metadata": {},
   "outputs": [],
   "source": [
    "class Ejemplo:\n",
    "    __atributo_privado=\"Soy un atributo inalcnazabele desde fuera\"\n",
    "    def __metodo_privado(self):\n",
    "        print(\"Soy un metodo inalcnzable desde fuera\")\n",
    "    def atributo_publico(self):\n",
    "        return self.__atributo_privado\n",
    "    def metodo_publico(self):\n",
    "        return self.__metodo_privado()"
   ]
  },
  {
   "cell_type": "code",
   "execution_count": 124,
   "metadata": {},
   "outputs": [
    {
     "name": "stdout",
     "output_type": "stream",
     "text": [
      "Soy un metodo inalcnzable desde fuera\n"
     ]
    }
   ],
   "source": [
    "e=Ejemplo()\n",
    "e.atributo_publico()\n",
    "e.metodo_publico()"
   ]
  },
  {
   "cell_type": "code",
   "execution_count": 3,
   "metadata": {},
   "outputs": [],
   "source": [
    "#Completar el ejercicio aqui\n",
    "import math\n",
    "\n",
    "class Punto:\n",
    "    def __init__(self,x=0,y=0):\n",
    "        self.x=x\n",
    "        self.y=y\n",
    "    def __str__(self):\n",
    "        return\"({} , {})\".format(self.x,self.y)\n",
    "    def cuadrante(self):\n",
    "        if self.x>0 and self.y>0:\n",
    "            print(\"{} pertenece al primer cuadrante\".format(self))\n",
    "        elif self.x<0 and self.y>0:\n",
    "            print(\"{} pertenece al segundo cuadrante\".format(self))\n",
    "        elif self.x<0 and self.y<0:\n",
    "            print(\"{} pertenence al tercer cuadrante\".format(self))\n",
    "        elif self.x>0 and self.y<0:\n",
    "            print(\"{} pertenece al cuarto cuadrante\".format(self))\n",
    "        else:\n",
    "            print(\"{} se encuantran sobre el origen\".format(self))\n",
    "    def vector(self,p):\n",
    "        print(\"El vector entre {} y {} es ({} {})\".format(self,p,p.x-self.x,p.y-self.y))\n",
    "    def distancia(self,p):\n",
    "        d=math.sqrt((p.x-self.x)**2+(p.y-self.y)**2)\n",
    "        print(\"La distancia entre {} y {} es {}\".format(self,p,d))\n",
    "    "
   ]
  },
  {
   "cell_type": "code",
   "execution_count": 4,
   "metadata": {},
   "outputs": [],
   "source": [
    "A=Punto(2,3)\n",
    "B=Punto(5,5)\n",
    "C=Punto(-3,-1)\n",
    "D=Punto(0,0)"
   ]
  },
  {
   "cell_type": "code",
   "execution_count": 171,
   "metadata": {},
   "outputs": [
    {
     "name": "stdout",
     "output_type": "stream",
     "text": [
      "(2 , 3) pertenece al primer cuadrante\n",
      "(-3 , -1) pertenence al tercer cuadrante\n",
      "(0 , 0) se encuantran sobre el origen\n"
     ]
    }
   ],
   "source": [
    "A.cuadrante()\n",
    "C.cuadrante()\n",
    "D.cuadrante()"
   ]
  },
  {
   "cell_type": "code",
   "execution_count": 152,
   "metadata": {},
   "outputs": [
    {
     "name": "stdout",
     "output_type": "stream",
     "text": [
      "El vector entre (2 , 3) y (5 , 5) es (3 2)\n"
     ]
    }
   ],
   "source": [
    "A.vector(B)"
   ]
  },
  {
   "cell_type": "code",
   "execution_count": 153,
   "metadata": {},
   "outputs": [
    {
     "name": "stdout",
     "output_type": "stream",
     "text": [
      "El vector entre (5 , 5) y (2 , 3) es (-3 -2)\n"
     ]
    }
   ],
   "source": [
    "B.vector(A)"
   ]
  },
  {
   "cell_type": "code",
   "execution_count": 154,
   "metadata": {},
   "outputs": [
    {
     "name": "stdout",
     "output_type": "stream",
     "text": [
      "La distancia entre (2 , 3) y (5 , 5) es 3.605551275463989\n"
     ]
    }
   ],
   "source": [
    "A.distancia(B)"
   ]
  },
  {
   "cell_type": "code",
   "execution_count": 155,
   "metadata": {},
   "outputs": [
    {
     "name": "stdout",
     "output_type": "stream",
     "text": [
      "La distancia entre (5 , 5) y (2 , 3) es 3.605551275463989\n"
     ]
    }
   ],
   "source": [
    "B.distancia(A)"
   ]
  },
  {
   "cell_type": "code",
   "execution_count": 156,
   "metadata": {},
   "outputs": [
    {
     "name": "stdout",
     "output_type": "stream",
     "text": [
      "La distancia entre (2 , 3) y (0 , 0) es 3.605551275463989\n",
      "La distancia entre (5 , 5) y (0 , 0) es 7.0710678118654755\n",
      "La distancia entre (-3 , -1) y (0 , 0) es 3.1622776601683795\n"
     ]
    }
   ],
   "source": [
    "A.distancia(Punto())\n",
    "B.distancia(Punto())\n",
    "C.distancia(Punto())"
   ]
  },
  {
   "cell_type": "code",
   "execution_count": 13,
   "metadata": {},
   "outputs": [],
   "source": [
    "class Rectangulo:\n",
    "    def __init__(self,pInicial=Punto(),pFinal=Punto()):\n",
    "        self.pInicial=pInicial\n",
    "        self.pFinal=pFinal\n",
    "    def base(self):\n",
    "        self.base=abs(self.pFinal.x - self.pInicial.x)\n",
    "        print(\"La base del rectangulo es {}\".format(self.base))\n",
    "    def altura(self):\n",
    "        self.altura=abs(self.pFinal.y-self.pInicial.y)\n",
    "        print(\"La altura del rectandulo es {}\".format(self.altura))\n",
    "    def area(self):\n",
    "        self.base=abs(self.pFinal.x - self.pInicial.x)\n",
    "        self.altura=abs(self.pFinal.y-self.pInicial.y)\n",
    "        self.area=self.base*self.altura\n",
    "        print(\"EL area del rectangulo es {}\".format(self.area))"
   ]
  },
  {
   "cell_type": "code",
   "execution_count": 14,
   "metadata": {},
   "outputs": [
    {
     "name": "stdout",
     "output_type": "stream",
     "text": [
      "La base del rectangulo es 3\n",
      "La altura del rectandulo es 2\n",
      "EL area del rectangulo es 6\n"
     ]
    }
   ],
   "source": [
    "R=Rectangulo(A,B)\n",
    "R.base()\n",
    "R.altura()\n",
    "R.area()"
   ]
  }
 ],
 "metadata": {
  "kernelspec": {
   "display_name": "Python 3",
   "language": "python",
   "name": "python3"
  },
  "language_info": {
   "codemirror_mode": {
    "name": "ipython",
    "version": 3
   },
   "file_extension": ".py",
   "mimetype": "text/x-python",
   "name": "python",
   "nbconvert_exporter": "python",
   "pygments_lexer": "ipython3",
   "version": "3.6.7"
  }
 },
 "nbformat": 4,
 "nbformat_minor": 2
}
