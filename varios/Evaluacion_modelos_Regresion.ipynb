{
 "cells": [
  {
   "cell_type": "code",
   "execution_count": 1,
   "metadata": {},
   "outputs": [
    {
     "name": "stdout",
     "output_type": "stream",
     "text": [
      "2018-12-30T16:48:56-06:00\n",
      "\n",
      "CPython 3.6.7\n",
      "IPython 7.2.0\n",
      "\n",
      "compiler   : GCC 8.2.0\n",
      "system     : Linux\n",
      "release    : 4.15.0-43-generic\n",
      "machine    : x86_64\n",
      "processor  : x86_64\n",
      "CPU cores  : 4\n",
      "interpreter: 64bit\n"
     ]
    }
   ],
   "source": [
    "%load_ext watermark\n",
    "%watermark"
   ]
  },
  {
   "cell_type": "code",
   "execution_count": 3,
   "metadata": {},
   "outputs": [],
   "source": [
    "from sklearn import datasets\n",
    "#Cargamos el data set de boston\n",
    "boston=datasets.load_boston()"
   ]
  },
  {
   "cell_type": "code",
   "execution_count": 7,
   "metadata": {},
   "outputs": [],
   "source": [
    "from sklearn.linear_model import LinearRegression"
   ]
  },
  {
   "cell_type": "code",
   "execution_count": 8,
   "metadata": {},
   "outputs": [],
   "source": [
    "#Creamos el modelo\n",
    "model=LinearRegression()"
   ]
  },
  {
   "cell_type": "code",
   "execution_count": 9,
   "metadata": {},
   "outputs": [
    {
     "data": {
      "text/plain": [
       "LinearRegression(copy_X=True, fit_intercept=True, n_jobs=None,\n",
       "         normalize=False)"
      ]
     },
     "execution_count": 9,
     "metadata": {},
     "output_type": "execute_result"
    }
   ],
   "source": [
    "#Ajustamos el modelo a los datos\n",
    "model.fit(X=boston[\"data\"],y=boston[\"target\"])"
   ]
  },
  {
   "cell_type": "code",
   "execution_count": 15,
   "metadata": {},
   "outputs": [],
   "source": [
    "y_objetivo=boston[\"target\"]\n",
    "#Prediccion del modelo con las variables independientes\n",
    "y_pred=model.predict(boston[\"data\"])"
   ]
  },
  {
   "cell_type": "code",
   "execution_count": 16,
   "metadata": {},
   "outputs": [],
   "source": [
    "from sklearn import metrics"
   ]
  },
  {
   "cell_type": "markdown",
   "metadata": {},
   "source": [
    "# Error Absoluto medio\n",
    "\n",
    "El error absoluto medio(Mean Absolute Error o MAE)\n",
    "$$\\frac{1}{n}\\sum_{i=1}^{n}|y_i -\\hat{y}_i|$$\n",
    "\n",
    "Es decir, la medida de las diferencias entre la variable objetivo y las predicciones sin signo.\n",
    "\n",
    "MAE es una metrica robusta, en cuanto a que no varia mucho si hay valores extremos en los datos. El error se puede interpretar como unidades de la variable objetivo(por ejemplo, si la variable objetivo es en dolares MAE estara tambien en dolares)."
   ]
  },
  {
   "cell_type": "code",
   "execution_count": 18,
   "metadata": {},
   "outputs": [],
   "source": [
    "metrics.mean_absolute_error?"
   ]
  },
  {
   "cell_type": "code",
   "execution_count": 19,
   "metadata": {},
   "outputs": [
    {
     "data": {
      "text/plain": [
       "3.2708628109003177"
      ]
     },
     "execution_count": 19,
     "metadata": {},
     "output_type": "execute_result"
    }
   ],
   "source": [
    "metrics.mean_absolute_error(y_objetivo,y_pred)"
   ]
  },
  {
   "cell_type": "markdown",
   "metadata": {},
   "source": [
    "Nos arroja un error de mas menos 3.27.. mil dolares los precios \n",
    "de las casas en boston"
   ]
  },
  {
   "cell_type": "markdown",
   "metadata": {},
   "source": [
    "# Error cuadratico Medio\n",
    "El error cuadratico medio(Mean Squared Error o MSE)\n",
    "$$\\frac{1}{n}\\sum_{i=1}^{n}(y_i -\\hat{y}_i)^2$$\n",
    "\n",
    "Dado que el MSE se define en unidades cuadraticas ,lo cual no es intituivo(¿dolares cuadrados?), generalmente se usa su raiz.\n",
    "\n",
    "# Raíz del error cuadratico medio.\n",
    "La raiz del error cuadrático medio( Root Mean Squared Error or RSME) se diferencia del MSE en que el resultado se puede medir en las mismas unidades de la variable objetivo.\n",
    "$$\\sqrt{\\frac{1}{n}\\sum_{i=1}^{n}(y_i -\\hat{y}_i)^2}$$\n",
    "\n",
    "Si embargo,  tiene un problema y es si es que da mas inportancia a los grandes errores. Por ejemplo en el Boston Housing Dataset, si tenemos dos observaciones y sus predicciones:\n",
    "\n",
    "    observacion1: MEDV: 10 MEDV_pred: 15 RMSE:(10-15)^2 =25\n",
    "    observacion2: MEDV: 1000 MEDV_pred: 1010 RMSE:(1000-1010)^2=100\n",
    "\n",
    "El usar RMSE como medida de error significa que le dara mas peso al error de la observacion2 que al error de la observacion1, pese a que un error de 5000 dolares en una zona donde el valor medio es 10,000$ es un error mucho mas grave que un error de 10,000 dolares en una zona donde el valor medio de las casas es de un millon de dolares.\n",
    "\n",
    "RMSE es mas sencible que MAE a variaciones en los errores de prediccion, aqui tenemos un ejemplo donde se ve esto.\n",
    "\n",
    "![mae_vs_mse](https://cdn-images-1.medium.com/max/1371/1*YTxb8K2XZIisC944v6rERw.png)\n",
    "\n",
    "Este es un ejemplo se ve como para los tres casos, el MAE no varía, mientras que en funcion de la distribucion de errores el RMSE puede ser igual al MAE(todos los errores iguales) o mucho mayor(muchos errores nulos con un erro muy grande).\n",
    "\n",
    "Para aquellos casos donde lo que queramos es esto(evitar errores grandes) y cuando la distribucion de la variable objetivo este bien distribuida se puede usar RMSE en vez de MAE."
   ]
  },
  {
   "cell_type": "code",
   "execution_count": 23,
   "metadata": {},
   "outputs": [
    {
     "data": {
      "text/plain": [
       "4.679191295697281"
      ]
     },
     "execution_count": 23,
     "metadata": {},
     "output_type": "execute_result"
    }
   ],
   "source": [
    "import numpy as np\n",
    "np.sqrt(metrics.mean_squared_error(y_objetivo,y_pred))"
   ]
  },
  {
   "cell_type": "markdown",
   "metadata": {},
   "source": [
    "# Coeficiente de determinacion\n",
    "El coeficiente de determinacion(R2 o R-squared) mide la porcion de la varianza de la varible objetivo que se puede explicar por el modelo.\n",
    "\n",
    "R2 tiene un nvalor maximo de 1(cuando el modelo explica toda la varianza), aunque puede tener valores negativos.\n",
    "\n",
    "Hay varias formas de definir R2, pero una de las cosas mas sencillas es simplemente la correlacion(definida como la Correlacion de Pearson) entre la variable objetivo y las predicciones, elevada al cuadrado.\n",
    "\n",
    "![pmcc](https://wikimedia.org/api/rest_v1/media/math/render/svg/01d103c10e6d4f477953a9b48c69d19a954d978a)\n",
    "\n",
    "Un problema inportante que tiene R2 es que nos indica si el modelo explica la varianza debido a que esta sobreajusta(overfitted). Por eso una medida es el Coeficiente de Determinacion ajustado(Adjusted R.squared), que tiene en consideracion la conplejidad del mismo modelo.\n",
    "\n",
    "$$1 - \\frac{(1 - R^2)(n-1)}{(n-k-1)}$$\n",
    "\n",
    "donde n es el numero de observaciones y k es el numero de coeficientes del modelo(sin contar el termino independiente)\n"
   ]
  },
  {
   "cell_type": "code",
   "execution_count": 25,
   "metadata": {},
   "outputs": [
    {
     "data": {
      "text/plain": [
       "0.7406426641094095"
      ]
     },
     "execution_count": 25,
     "metadata": {},
     "output_type": "execute_result"
    }
   ],
   "source": [
    "modelo_r2=metrics.r2_score(y_objetivo,y_pred)\n",
    "modelo_r2"
   ]
  },
  {
   "cell_type": "code",
   "execution_count": 26,
   "metadata": {},
   "outputs": [
    {
     "data": {
      "text/plain": [
       "array([[1.        , 0.74064266],\n",
       "       [0.74064266, 1.        ]])"
      ]
     },
     "execution_count": 26,
     "metadata": {},
     "output_type": "execute_result"
    }
   ],
   "source": [
    "import numpy as np\n",
    "np.corrcoef(y_objetivo,y_pred)**2"
   ]
  },
  {
   "cell_type": "markdown",
   "metadata": {},
   "source": [
    "Calcular el coeficiente de Determinacion ajustado"
   ]
  },
  {
   "cell_type": "code",
   "execution_count": 30,
   "metadata": {},
   "outputs": [
    {
     "data": {
      "text/plain": [
       "13"
      ]
     },
     "execution_count": 30,
     "metadata": {},
     "output_type": "execute_result"
    }
   ],
   "source": [
    "len(model.coef_)"
   ]
  },
  {
   "cell_type": "code",
   "execution_count": 29,
   "metadata": {},
   "outputs": [
    {
     "data": {
      "text/plain": [
       "0.733789726372463"
      ]
     },
     "execution_count": 29,
     "metadata": {},
     "output_type": "execute_result"
    }
   ],
   "source": [
    "modelo_r2_ajustado=1-(1-modelo_r2)*(len(boston[\"target\"])-1)/\\\n",
    "                    (len(boston[\"target\"])-boston[\"data\"].shape[1]-1)\n",
    "modelo_r2_ajustado"
   ]
  }
 ],
 "metadata": {
  "kernelspec": {
   "display_name": "Python 3",
   "language": "python",
   "name": "python3"
  },
  "language_info": {
   "codemirror_mode": {
    "name": "ipython",
    "version": 3
   },
   "file_extension": ".py",
   "mimetype": "text/x-python",
   "name": "python",
   "nbconvert_exporter": "python",
   "pygments_lexer": "ipython3",
   "version": "3.6.7"
  }
 },
 "nbformat": 4,
 "nbformat_minor": 2
}
